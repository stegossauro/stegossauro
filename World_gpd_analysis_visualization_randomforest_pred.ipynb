{
  "metadata": {
    "kernelspec": {
      "language": "python",
      "display_name": "Python 3",
      "name": "python3"
    },
    "language_info": {
      "name": "python",
      "version": "3.10.13",
      "mimetype": "text/x-python",
      "codemirror_mode": {
        "name": "ipython",
        "version": 3
      },
      "pygments_lexer": "ipython3",
      "nbconvert_exporter": "python",
      "file_extension": ".py"
    },
    "kaggle": {
      "accelerator": "none",
      "dataSources": [
        {
          "sourceId": 7697642,
          "sourceType": "datasetVersion",
          "datasetId": 4492965
        }
      ],
      "dockerImageVersionId": 30664,
      "isInternetEnabled": false,
      "language": "python",
      "sourceType": "notebook",
      "isGpuEnabled": false
    },
    "colab": {
      "name": "World gpd analysis/visualization/randomforest pred",
      "provenance": [],
      "include_colab_link": true
    }
  },
  "nbformat_minor": 0,
  "nbformat": 4,
  "cells": [
    {
      "cell_type": "markdown",
      "metadata": {
        "id": "view-in-github",
        "colab_type": "text"
      },
      "source": [
        "<a href=\"https://colab.research.google.com/github/stegossauro/stegossauro/blob/main/World_gpd_analysis_visualization_randomforest_pred.ipynb\" target=\"_parent\"><img src=\"https://colab.research.google.com/assets/colab-badge.svg\" alt=\"Open In Colab\"/></a>"
      ]
    },
    {
      "source": [
        "# IMPORTANT: RUN THIS CELL IN ORDER TO IMPORT YOUR KAGGLE DATA SOURCES,\n",
        "# THEN FEEL FREE TO DELETE THIS CELL.\n",
        "# NOTE: THIS NOTEBOOK ENVIRONMENT DIFFERS FROM KAGGLE'S PYTHON\n",
        "# ENVIRONMENT SO THERE MAY BE MISSING LIBRARIES USED BY YOUR\n",
        "# NOTEBOOK.\n",
        "import kagglehub\n",
        "sazidthe1_world_gdp_growth_path = kagglehub.dataset_download('sazidthe1/world-gdp-growth')\n",
        "\n",
        "print('Data source import complete.')\n"
      ],
      "metadata": {
        "id": "y-nu9fdTK7t6"
      },
      "cell_type": "code",
      "outputs": [],
      "execution_count": null
    },
    {
      "cell_type": "markdown",
      "source": [
        "In this project, I will demonstrate various methods for visual analysis of this dataset, as well as an example of prediction on it. I will organize the code in such a way that it is easy to reuse and modify as needed"
      ],
      "metadata": {
        "id": "72h70E4PK7t-"
      }
    },
    {
      "cell_type": "markdown",
      "source": [
        "The first step involves importing the necessary libraries and defining a dictionary to enable a comparative analysis between different continents using this dataset."
      ],
      "metadata": {
        "id": "sPLQiuFgK7uA"
      }
    },
    {
      "cell_type": "code",
      "source": [
        "import pandas as pd\n",
        "import matplotlib.pyplot as plt\n",
        "import numpy as np\n",
        "from sklearn.impute import SimpleImputer\n",
        "from sklearn.ensemble import RandomForestRegressor\n",
        "\n",
        "df = pd.read_csv(\"/kaggle/input/world-gdp-growth/world_gdp_data.csv\", encoding='latin-1')\n",
        "\n",
        "continents = {\n",
        "    \"Asia\": [\"Afghanistan\", \"Armenia\", \"Azerbaijan\", \"Bahrain\", \"Bangladesh\", \"Bhutan\", \"Brunei Darussalam\", \"Cambodia\",\n",
        "             \"China, People's Republic of\", \"Georgia\", \"Hong Kong SAR\", \"India\", \"Indonesia\", \"Iran\", \"Iraq\", \"Israel\",\n",
        "             \"Japan\", \"Jordan\", \"Kazakhstan\", \"Korea, Republic of\", \"Kuwait\", \"Kyrgyz Republic\", \"Lao P.D.R.\", \"Lebanon\",\n",
        "             \"Macao SAR\", \"Malaysia\", \"Maldives\", \"Mongolia\", \"Myanmar\", \"Nepal\", \"Oman\", \"Pakistan\", \"Philippines\",\n",
        "             \"Qatar\", \"Saudi Arabia\", \"Singapore\", \"Sri Lanka\", \"Syria\", \"Taiwan Province of China\", \"Tajikistan\",\n",
        "             \"Thailand\", \"Timor-Leste\", \"Turkey\", \"Turkmenistan\", \"United Arab Emirates\", \"Uzbekistan\", \"Vietnam\", \"West Bank and Gaza\", \"Yemen\"],\n",
        "    \"Europe\": [\"Albania\", \"Andorra\", \"Armenia\", \"Austria\", \"Azerbaijan\", \"Belarus\", \"Belgium\", \"Bosnia and Herzegovina\",\n",
        "               \"Bulgaria\", \"Croatia\", \"Cyprus\", \"Czech Republic\", \"Denmark\", \"Estonia\", \"Finland\", \"France\", \"Georgia\",\n",
        "               \"Germany\", \"Greece\", \"Hungary\", \"Iceland\", \"Ireland\", \"Italy\", \"Kazakhstan\", \"Kosovo\", \"Latvia\", \"Liechtenstein\",\n",
        "               \"Lithuania\", \"Luxembourg\", \"Malta\", \"Moldova\", \"Monaco\", \"Montenegro\", \"Netherlands\", \"North Macedonia\",\n",
        "               \"Norway\", \"Poland\", \"Portugal\", \"Romania\", \"Russia\", \"San Marino\", \"Serbia\", \"Slovak Republic\", \"Slovenia\",\n",
        "               \"Spain\", \"Sweden\", \"Switzerland\", \"Turkey\", \"Ukraine\", \"United Kingdom\"],\n",
        "    \"Africa\": [\"Algeria\", \"Angola\", \"Benin\", \"Botswana\", \"Burkina Faso\", \"Burundi\", \"Cabo Verde\", \"Cameroon\", \"Central African Republic\",\n",
        "               \"Chad\", \"Comoros\", \"Congo, Dem. Rep. of the\", \"Congo, Republic of the\", \"Côte d'Ivoire\", \"Djibouti\", \"Egypt\", \"Equatorial Guinea\",\n",
        "               \"Eritrea\", \"Eswatini\", \"Ethiopia\", \"Gabon\", \"Gambia, The\", \"Ghana\", \"Guinea\", \"Guinea-Bissau\", \"Kenya\", \"Lesotho\", \"Liberia\", \"Libya\",\n",
        "               \"Madagascar\", \"Malawi\", \"Mali\", \"Mauritania\", \"Mauritius\", \"Morocco\", \"Mozambique\", \"Namibia\", \"Niger\", \"Nigeria\", \"Rwanda\", \"São Tomé and Príncipe\",\n",
        "               \"Senegal\", \"Seychelles\", \"Sierra Leone\", \"Somalia\", \"South Africa\", \"South Sudan, Republic of\", \"Sudan\", \"Tanzania\", \"Togo\", \"Tunisia\", \"Uganda\",\n",
        "               \"Zambia\", \"Zimbabwe\"],\n",
        "    \"North America\": [\"Antigua and Barbuda\", \"Bahamas, The\", \"Barbados\", \"Belize\", \"Canada\", \"Costa Rica\", \"Cuba\", \"Dominica\", \"Dominican Republic\",\n",
        "                      \"El Salvador\", \"Grenada\", \"Guatemala\", \"Haiti\", \"Honduras\", \"Jamaica\", \"Mexico\", \"Nicaragua\", \"Panama\", \"Saint Kitts and Nevis\",\n",
        "                      \"Saint Lucia\", \"Saint Vincent and the Grenadines\", \"Trinidad and Tobago\", \"United States\"],\n",
        "    \"South America\": [\"Argentina\", \"Bolivia\", \"Brazil\", \"Chile\", \"Colombia\", \"Ecuador\", \"Guyana\", \"Paraguay\", \"Peru\", \"Suriname\", \"Uruguay\", \"Venezuela\"],\n",
        "    \"Oceania\": [\"Australia\", \"Fiji\", \"Kiribati\", \"Marshall Islands\", \"Micronesia, Fed. States of\", \"Nauru\", \"New Zealand\", \"Palau\", \"Papua New Guinea\",\n",
        "                \"Samoa\", \"Solomon Islands\", \"Tonga\", \"Tuvalu\", \"Vanuatu\"]\n",
        "}\n",
        "\n",
        "df['Continent'] = df['country_name'].apply(lambda x: next((continent for continent, countries in continents.items() if x in countries), None))\n"
      ],
      "metadata": {
        "execution": {
          "iopub.status.busy": "2024-03-05T15:30:39.258255Z",
          "iopub.execute_input": "2024-03-05T15:30:39.259889Z",
          "iopub.status.idle": "2024-03-05T15:30:39.292342Z",
          "shell.execute_reply.started": "2024-03-05T15:30:39.259829Z",
          "shell.execute_reply": "2024-03-05T15:30:39.290503Z"
        },
        "trusted": true,
        "id": "V8krXviRK7uA"
      },
      "execution_count": null,
      "outputs": []
    },
    {
      "cell_type": "markdown",
      "source": [
        "\n",
        "The following code segment represents an analysis and visualization by continents of the presence of null data, meaning the absence of data from the dataset. These null values typically can influence and cause inconsistencies in the final results. Additionally, with this implemented method, we can observe which regions have the most missing data."
      ],
      "metadata": {
        "id": "eHSCkPd9K7uB"
      }
    },
    {
      "cell_type": "code",
      "source": [
        "results = {}\n",
        "\n",
        "for continent, countries in continents.items():\n",
        "    df_continent = df[df['Continent'] == continent]\n",
        "\n",
        "    total_null_data = df_continent.isnull().sum().sum()\n",
        "\n",
        "    total_existing_data = df_continent.size - total_null_data\n",
        "\n",
        "    percent_null_data = (total_null_data / (total_null_data + total_existing_data)) * 100\n",
        "    percent_existing_data = 100 - percent_null_data\n",
        "\n",
        "    results[continent] = {\n",
        "        'existing_data': total_existing_data,\n",
        "        'null_data': total_null_data,\n",
        "        'percent_null_data': percent_null_data,\n",
        "        'percent_existing_data': percent_existing_data\n",
        "    }\n",
        "\n",
        "for continent, result in results.items():\n",
        "    print(f\"Continent {continent}: total existing data = {result['existing_data']}, null data = {result['null_data']}, {result['percent_null_data']:.2f}% of values are null\")\n",
        "\n",
        "fig, axs = plt.subplots(2, 3, figsize=(15, 10))\n",
        "\n",
        "for i, (continent, result) in enumerate(results.items()):\n",
        "    percent_null_data = result['percent_null_data']\n",
        "    percent_existing_data = result['percent_existing_data']\n",
        "    row = i // 3\n",
        "    col = i % 3\n",
        "    axs[row, col].bar(['Existing', 'Null'], [percent_existing_data, percent_null_data], color=['green', 'red'])\n",
        "    axs[row, col].set_title(f'{continent}')\n",
        "    axs[row, col].set_ylabel('Percentage')\n",
        "    axs[row, col].set_ylim([0, 100])\n",
        "\n",
        "fig.suptitle('Percentage of null values by continent', fontsize=16)\n",
        "plt.tight_layout()\n",
        "plt.show()\n"
      ],
      "metadata": {
        "execution": {
          "iopub.status.busy": "2024-03-05T15:32:53.730751Z",
          "iopub.execute_input": "2024-03-05T15:32:53.731303Z",
          "iopub.status.idle": "2024-03-05T15:32:55.047712Z",
          "shell.execute_reply.started": "2024-03-05T15:32:53.731266Z",
          "shell.execute_reply": "2024-03-05T15:32:55.04631Z"
        },
        "trusted": true,
        "id": "qlpRC_nVK7uC"
      },
      "execution_count": null,
      "outputs": []
    },
    {
      "cell_type": "markdown",
      "source": [
        "In the next step, a visualization of the average GDP evolution per continent is implemented in two separate graphs."
      ],
      "metadata": {
        "id": "L_FzamfFK7uC"
      }
    },
    {
      "cell_type": "code",
      "source": [
        "for col in df.columns[2:]:\n",
        "    df[col] = pd.to_numeric(df[col], errors='coerce')\n",
        "\n",
        "plt.figure(figsize=(12, 8))\n",
        "\n",
        "for continent, countries in continents.items():\n",
        "    df_continent = df[df['country_name'].isin(countries)]\n",
        "    avg_gdp = df_continent.iloc[:, 2:].mean(axis=0, skipna=True)\n",
        "    years = avg_gdp.index.tolist()\n",
        "    avg_gdp_values = avg_gdp.values.tolist()\n",
        "    plt.plot(years, avg_gdp_values, marker='o', label=continent)\n",
        "\n",
        "plt.legend()\n",
        "plt.title('Average GDP Evolution per Continent')\n",
        "plt.xlabel('Year')\n",
        "plt.ylabel('Average GDP')\n",
        "plt.xticks(years[::5])\n",
        "plt.tight_layout()\n",
        "plt.show()\n"
      ],
      "metadata": {
        "execution": {
          "iopub.status.busy": "2024-03-05T15:41:40.292146Z",
          "iopub.execute_input": "2024-03-05T15:41:40.292752Z",
          "iopub.status.idle": "2024-03-05T15:41:40.93417Z",
          "shell.execute_reply.started": "2024-03-05T15:41:40.292711Z",
          "shell.execute_reply": "2024-03-05T15:41:40.933032Z"
        },
        "trusted": true,
        "id": "VBbBpOv5K7uD"
      },
      "execution_count": null,
      "outputs": []
    },
    {
      "cell_type": "code",
      "source": [
        "plt.figure(figsize=(12, 8))\n",
        "\n",
        "for i, (continent, countries) in enumerate(continents.items(), start=1):\n",
        "    plt.subplot(2, 3, i)\n",
        "    df_continent = df[df['country_name'].isin(countries)]\n",
        "    avg_gdp = df_continent.iloc[:, 2:].mean(axis=0, skipna=True)\n",
        "    years = avg_gdp.index.tolist()\n",
        "    avg_gdp_values = avg_gdp.values.tolist()\n",
        "    plt.plot(years, avg_gdp_values, marker='o')\n",
        "    plt.xticks(years[::10])\n",
        "    plt.title(continent)\n",
        "\n",
        "plt.suptitle('Average GDP Evolution per Continent', fontsize=16)\n",
        "plt.tight_layout()\n",
        "plt.show()\n"
      ],
      "metadata": {
        "execution": {
          "iopub.status.busy": "2024-03-05T15:43:25.211399Z",
          "iopub.execute_input": "2024-03-05T15:43:25.211998Z",
          "iopub.status.idle": "2024-03-05T15:43:26.689931Z",
          "shell.execute_reply.started": "2024-03-05T15:43:25.211955Z",
          "shell.execute_reply": "2024-03-05T15:43:26.688666Z"
        },
        "trusted": true,
        "id": "0o-3uGKNK7uD"
      },
      "execution_count": null,
      "outputs": []
    },
    {
      "cell_type": "markdown",
      "source": [
        "This type of visualization serves as an excellent starting point for any analysis. Interesting trends over the past 40 years can be observed, with the most intriguing aspect being how clearly the global average GDP per continent has been influenced by the pandemic."
      ],
      "metadata": {
        "id": "O585pkq2K7uE"
      }
    },
    {
      "cell_type": "markdown",
      "source": [
        "Here, I have created an example for the same type of graph but in detail for individual countries rather than continents."
      ],
      "metadata": {
        "id": "s7MCuYrGK7uE"
      }
    },
    {
      "cell_type": "code",
      "source": [
        "# Here you can change the names of the countries you want to visualize for\n",
        "south_american_countries = [\"Brazil\", \"Argentina\", \"Chile\", \"Colombia\", \"Peru\", \"Uruguay\"]\n",
        "\n",
        "\n",
        "plt.figure(figsize=(15, 8))\n",
        "for i, country in enumerate(south_american_countries, start=1):\n",
        "\n",
        "    plt.subplot(2, 3, i)\n",
        "    df_country = df[df['country_name'] == country]\n",
        "    years = df.columns[2:]\n",
        "    gdp_values = df_country.iloc[:, 2:].values.flatten()\n",
        "    plt.plot(years, gdp_values, marker='o')\n",
        "    plt.xticks(years[::10])\n",
        "    plt.title(country)\n",
        "plt.suptitle('GDP Evolution in South American Countries', fontsize=16)\n",
        "plt.tight_layout()\n",
        "\n",
        "plt.show()\n",
        "\n",
        "plt.figure(figsize=(10, 6))\n",
        "for country in south_american_countries:\n",
        "    df_country = df[df['country_name'] == country]\n",
        "    years = df.columns[2:]\n",
        "    gdp_values = df_country.iloc[:, 2:].mean(axis=0, skipna=True)\n",
        "    plt.plot(years, gdp_values, marker='o', label=country)\n",
        "\n",
        "plt.title('Comparison of Average GDP Evolution in South American Countries')\n",
        "plt.xlabel('Year')\n",
        "plt.ylabel('GDP')\n",
        "plt.legend()\n",
        "plt.xticks(years[::5])\n",
        "plt.grid(True)\n",
        "plt.show()\n"
      ],
      "metadata": {
        "execution": {
          "iopub.status.busy": "2024-03-05T15:53:04.378066Z",
          "iopub.execute_input": "2024-03-05T15:53:04.378669Z",
          "iopub.status.idle": "2024-03-05T15:53:06.654331Z",
          "shell.execute_reply.started": "2024-03-05T15:53:04.378624Z",
          "shell.execute_reply": "2024-03-05T15:53:06.652372Z"
        },
        "trusted": true,
        "id": "kUDL0nPXK7uE"
      },
      "execution_count": null,
      "outputs": []
    },
    {
      "cell_type": "markdown",
      "source": [
        "The last part of the code represents a prediction for the next 3 years using RandomForest and generating a top 3 bottom 3 per continent to observe, according to the prediction, which countries will experience the highest GDP growth or the highest decline for each continent. Importantly, since we have already observed the presence of null values that can influence the prediction of a time series, we have implemented a method to avoid errors. Additionally, if the null values per country are too many, in this case > 8, they will not be considered conclusive, and those countries will not be included in the final result but will be displayed afterward."
      ],
      "metadata": {
        "id": "PA36LMkuK7uE"
      }
    },
    {
      "cell_type": "code",
      "source": [
        "predictions = []\n",
        "ignored_countries = []\n",
        "\n",
        "for continent, countries in continents.items():\n",
        "    continent_data = df[df['country_name'].isin(countries)]\n",
        "    continent_predictions = []\n",
        "\n",
        "    for country_name, country_data in continent_data.iterrows():\n",
        "        null_count = country_data[2:].isnull().sum()\n",
        "        if null_count > 8:  # Ignore countries with more than 8 null values\n",
        "            ignored_countries.append(country_name)\n",
        "            continue\n",
        "\n",
        "        numeric_data = country_data[2:].dropna().astype(float)\n",
        "        start_year_idx = numeric_data.index[0]\n",
        "        years = np.array(numeric_data.index.astype(int)).reshape(-1, 1)\n",
        "        gdp_values = numeric_data.values.reshape(-1, 1)\n",
        "        features = np.concatenate([years, gdp_values], axis=1)\n",
        "        imputer = SimpleImputer(strategy='mean')\n",
        "        features_imputed = imputer.fit_transform(features)\n",
        "        rf_regressor = RandomForestRegressor()\n",
        "        rf_regressor.fit(features_imputed, gdp_values.ravel())\n",
        "        future_gdp_values = []\n",
        "        last_known_value = gdp_values[-1][0]\n",
        "        for year in range(2025, 2028):\n",
        "            current_features = np.array([[year, last_known_value]])\n",
        "            predicted_gdp = rf_regressor.predict(current_features)[0]\n",
        "            future_gdp_values.append(predicted_gdp)\n",
        "            last_known_value = predicted_gdp\n",
        "        avg_growth = np.mean(future_gdp_values)\n",
        "        continent_predictions.append((country_name, avg_growth, future_gdp_values))\n",
        "\n",
        "    continent_predictions.sort(key=lambda x: x[1], reverse=True)\n",
        "\n",
        "    print(f\"\\nTop 3 countries with the highest GDP growth in {continent}:\")\n",
        "    for i in range(min(3, len(continent_predictions))):\n",
        "        print(\"Country:\", df.loc[continent_predictions[i][0], \"country_name\"])\n",
        "        print(\"Predictions for the upcoming years:\")\n",
        "        for year, gdp_value in zip([2025, 2026, 2027], continent_predictions[i][2]):\n",
        "            print(f\"{year}: {gdp_value}\")\n",
        "        print()\n",
        "\n",
        "    print(f\"\\nBottom 3 countries with the lowest GDP growth in {continent}:\")\n",
        "    for i in range(max(0, len(continent_predictions) - 3), len(continent_predictions)):\n",
        "        print(\"Country:\", df.loc[continent_predictions[i][0], \"country_name\"])\n",
        "        print(\"Predictions for the upcoming years:\")\n",
        "        for year, gdp_value in zip([2025, 2026, 2027], continent_predictions[i][2]):\n",
        "            print(f\"{year}: {gdp_value}\")\n",
        "        print()\n",
        "\n",
        "\n",
        "print(\"\\nIgnored countries for prediction (more than 8 missing values):\")\n",
        "for index in ignored_countries:\n",
        "    print(df.loc[index, \"country_name\"])\n"
      ],
      "metadata": {
        "execution": {
          "iopub.status.busy": "2024-03-05T15:59:59.827688Z",
          "iopub.execute_input": "2024-03-05T15:59:59.828287Z",
          "iopub.status.idle": "2024-03-05T16:00:32.648949Z",
          "shell.execute_reply.started": "2024-03-05T15:59:59.828242Z",
          "shell.execute_reply": "2024-03-05T16:00:32.647056Z"
        },
        "trusted": true,
        "id": "aHK-Yd99K7uF"
      },
      "execution_count": null,
      "outputs": []
    }
  ]
}